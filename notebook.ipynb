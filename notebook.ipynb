{
 "cells": [
  {
   "cell_type": "code",
   "execution_count": 2,
   "id": "22ed5582",
   "metadata": {},
   "outputs": [],
   "source": [
    "import pandas as pd\n",
    "import xgboost as xgb \n",
    "from faker import Faker\n",
    "fake = Faker()"
   ]
  },
  {
   "cell_type": "code",
   "execution_count": null,
   "id": "49a37cfe",
   "metadata": {},
   "outputs": [],
   "source": [
    "\n",
    "class data_set():\n",
    "    def __init__(self, name, start_date, end_date, granularity):\n",
    "        self.name = name\n",
    "        self.start_date = start_date\n",
    "        self.end_date = end_date\n",
    "        self.granularity = granularity\n",
    "\n",
    "class data():\n",
    "    def __init__(self, data_set):\n",
    "        self.data_set = data_set\n",
    "        #self.faking()\n",
    "\n",
    "    #sales\n",
    "    #add_to_carts\n",
    "    #website_visitors\n",
    "    #marketing_expense\n",
    "\n",
    "    def faking():\n",
    "        data_set.name = fake.name()+ \"Shop\"\n",
    "\n",
    "\n",
    "\n",
    "    def get_name():\n",
    "        return data.data_set.name\n",
    "\n",
    "\n",
    "    "
   ]
  },
  {
   "cell_type": "code",
   "execution_count": 4,
   "id": "a10d29cc",
   "metadata": {},
   "outputs": [
    {
     "ename": "TypeError",
     "evalue": "data.faking() takes 0 positional arguments but 1 was given",
     "output_type": "error",
     "traceback": [
      "\u001b[31m---------------------------------------------------------------------------\u001b[39m",
      "\u001b[31mTypeError\u001b[39m                                 Traceback (most recent call last)",
      "\u001b[36mCell\u001b[39m\u001b[36m \u001b[39m\u001b[32mIn[4]\u001b[39m\u001b[32m, line 2\u001b[39m\n\u001b[32m      1\u001b[39m normal = data_set(\u001b[33m\"\u001b[39m\u001b[33molakala sales\u001b[39m\u001b[33m\"\u001b[39m, \u001b[33m\"\u001b[39m\u001b[33m01.01.2014\u001b[39m\u001b[33m\"\u001b[39m, \u001b[33m\"\u001b[39m\u001b[33m01.01.2014\u001b[39m\u001b[33m\"\u001b[39m, \u001b[33m\"\u001b[39m\u001b[33mD\u001b[39m\u001b[33m\"\u001b[39m )\n\u001b[32m----> \u001b[39m\u001b[32m2\u001b[39m olakala = \u001b[43mdata\u001b[49m\u001b[43m(\u001b[49m\u001b[43mnormal\u001b[49m\u001b[43m)\u001b[49m\n\u001b[32m      4\u001b[39m olakala.get_name()\n",
      "\u001b[36mCell\u001b[39m\u001b[36m \u001b[39m\u001b[32mIn[3]\u001b[39m\u001b[32m, line 11\u001b[39m, in \u001b[36mdata.__init__\u001b[39m\u001b[34m(self, data_set)\u001b[39m\n\u001b[32m      9\u001b[39m \u001b[38;5;28;01mdef\u001b[39;00m\u001b[38;5;250m \u001b[39m\u001b[34m__init__\u001b[39m(\u001b[38;5;28mself\u001b[39m, data_set):\n\u001b[32m     10\u001b[39m     \u001b[38;5;28mself\u001b[39m.data_set = data_set\n\u001b[32m---> \u001b[39m\u001b[32m11\u001b[39m     \u001b[38;5;28;43mself\u001b[39;49m\u001b[43m.\u001b[49m\u001b[43mfaking\u001b[49m\u001b[43m(\u001b[49m\u001b[43m)\u001b[49m\n",
      "\u001b[31mTypeError\u001b[39m: data.faking() takes 0 positional arguments but 1 was given"
     ]
    }
   ],
   "source": [
    "normal = data_set(\"olakala sales\", \"01.01.2014\", \"01.01.2014\", \"D\" )\n",
    "olakala = data(normal)\n",
    "\n",
    "olakala.get_name()"
   ]
  }
 ],
 "metadata": {
  "kernelspec": {
   "display_name": ".venv",
   "language": "python",
   "name": "python3"
  },
  "language_info": {
   "codemirror_mode": {
    "name": "ipython",
    "version": 3
   },
   "file_extension": ".py",
   "mimetype": "text/x-python",
   "name": "python",
   "nbconvert_exporter": "python",
   "pygments_lexer": "ipython3",
   "version": "3.13.5"
  }
 },
 "nbformat": 4,
 "nbformat_minor": 5
}
