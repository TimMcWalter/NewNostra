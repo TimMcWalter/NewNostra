{
 "cells": [
  {
   "cell_type": "code",
   "execution_count": 2,
   "id": "22ed5582",
   "metadata": {},
   "outputs": [],
   "source": [
    "import pandas as pd\n",
    "import xgboost as xgb \n",
    "from faker import Faker\n",
    "import numpy as np\n",
    "import datetime \n",
    "import os \n",
    "fake = Faker()"
   ]
  },
  {
   "cell_type": "code",
   "execution_count": 17,
   "id": "49a37cfe",
   "metadata": {},
   "outputs": [],
   "source": [
    "\n",
    "class data_set():\n",
    "    \n",
    "    def __init__(self, name, start_date, end_date, granularity):\n",
    "        self.name = name\n",
    "        self.start_date = start_date\n",
    "        self.end_date = end_date\n",
    "        self.granularity = granularity\n",
    "        self.data = 0\n",
    "        \n",
    "\n",
    "        self.ALLOWED_GRAIN = {\"D\"}  # we will add in H, W, M later if needed\n",
    "        if self.granularity not in self.ALLOWED_GRAIN:\n",
    "            raise ValueError(f\"Granularity {self.granularity} is not allowed. Allowed values are: {self.ALLOWED_GRAIN}\")\n",
    "    def link_data(self, data):\n",
    "        self.data = data\n",
    "\n",
    "    \n",
    "    class data():\n",
    "        def __init__(self, data_set):\n",
    "            self.data_set = data_set\n",
    "            self.dataframe = None \n",
    "            # sales\n",
    "            # add_to_carts\n",
    "            # website_visitors\n",
    "            # marketing_expense\n",
    "\n",
    "            #ideas:\n",
    "                # is_new_customer\n",
    "                # is_returning_customer \n",
    "    \n",
    "                # is_on_sale\n",
    "                # sale_amount (in 0-1)\n",
    "        def __str__(self):\n",
    "            return f\"Data for {self.data_set.name} from {self.data_set.start_date} to {self.data_set.end_date} with granularity {self.data_set.granularity}\"\n",
    "        \n",
    "        def set_dataframe(self, dataframe):\n",
    "            if not isinstance(dataframe, pd.DataFrame):\n",
    "                raise ValueError(\"Data must be a pandas DataFrame.\")\n",
    "            self.dataframe = dataframe\n",
    "            self.data_set.link_data(self.dataframe) #link the dataframe to the data_set\n",
    "\n",
    "class data_faker():\n",
    "    def __init__(self, data_set,data):\n",
    "        self.data_set = data_set\n",
    "        self.data_set.link_data(data)\n",
    "        \n",
    "    def faking():\n",
    "        data_set.name = fake.name()+ \"Shop\"\n",
    "    def fill_dates(self):\n",
    "\n",
    "        if self.data_set.granularity == \"D\":\n",
    "            dates = pd.date_range(start=self.data_set.start_date, end=self.data_set.end_date, freq='D')\n",
    "            # Create a DataFrame with the dates\n",
    "            df = pd.DataFrame(dates, columns=['date'])\n",
    "            # Set the date as the index\n",
    "            df.set_index('date', inplace=True)\n",
    "            #iterate through the DataFrame and fill in the data\n",
    "\n",
    "            \n",
    "    def get_name():\n",
    "        return data_set.name\n"
   ]
  },
  {
   "cell_type": "code",
   "execution_count": 19,
   "id": "a10d29cc",
   "metadata": {},
   "outputs": [
    {
     "name": "stdout",
     "output_type": "stream",
     "text": [
      "Data for olakala sales from 01.01.2014 to 01.12.2015 with granularity D\n"
     ]
    }
   ],
   "source": [
    "olakala_sales = data_set(\"olakala sales\", \"01.01.2014\", \"01.12.2015\", \"D\" )\n",
    "\n",
    "olakala_salesdata = data_set.data(olakala_sales)\n",
    "data_faker = data_faker(olakala_sales, olakala_salesdata)\n",
    "data_faker.fill_dates()\n",
    "print(olakala_salesdata)"
   ]
  },
  {
   "cell_type": "code",
   "execution_count": null,
   "id": "73dfb438",
   "metadata": {},
   "outputs": [],
   "source": [
    "df = pd.DataFrame({\"columns= ['date'],['sales'],['add_to_carts'], ['website_visitors'], ['marketing_expense']\"})\n"
   ]
  }
 ],
 "metadata": {
  "kernelspec": {
   "display_name": ".venv",
   "language": "python",
   "name": "python3"
  },
  "language_info": {
   "codemirror_mode": {
    "name": "ipython",
    "version": 3
   },
   "file_extension": ".py",
   "mimetype": "text/x-python",
   "name": "python",
   "nbconvert_exporter": "python",
   "pygments_lexer": "ipython3",
   "version": "3.13.5"
  }
 },
 "nbformat": 4,
 "nbformat_minor": 5
}
